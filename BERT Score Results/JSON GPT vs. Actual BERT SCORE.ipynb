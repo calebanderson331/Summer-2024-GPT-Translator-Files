{
 "cells": [
  {
   "cell_type": "code",
   "execution_count": 1,
   "id": "0fa052a1",
   "metadata": {},
   "outputs": [
    {
     "data": {
      "text/plain": [
       "'0.3.12'"
      ]
     },
     "execution_count": 1,
     "metadata": {},
     "output_type": "execute_result"
    }
   ],
   "source": [
    "import bert_score\n",
    "bert_score.__version__"
   ]
  },
  {
   "cell_type": "code",
   "execution_count": 2,
   "id": "e54e7c7c",
   "metadata": {},
   "outputs": [],
   "source": [
    "import logging\n",
    "import transformers\n",
    "transformers.tokenization_utils.logger.setLevel(logging.ERROR)\n",
    "transformers.configuration_utils.logger.setLevel(logging.ERROR)\n",
    "transformers.modeling_utils.logger.setLevel(logging.ERROR)"
   ]
  },
  {
   "cell_type": "code",
   "execution_count": 3,
   "id": "bd72270e",
   "metadata": {},
   "outputs": [],
   "source": [
    "%matplotlib inline\n",
    "import matplotlib.pyplot as plt\n",
    "from matplotlib import rcParams\n",
    "\n",
    "rcParams[\"xtick.major.size\"] = 0\n",
    "rcParams[\"xtick.minor.size\"] = 0\n",
    "rcParams[\"ytick.major.size\"] = 0\n",
    "rcParams[\"ytick.minor.size\"] = 0\n",
    "\n",
    "rcParams[\"axes.labelsize\"] = \"large\"\n",
    "rcParams[\"axes.axisbelow\"] = True\n",
    "rcParams[\"axes.grid\"] = True"
   ]
  },
  {
   "cell_type": "code",
   "execution_count": 4,
   "id": "7df2dbe6",
   "metadata": {},
   "outputs": [],
   "source": [
    "from bert_score import score"
   ]
  },
  {
   "cell_type": "code",
   "execution_count": 5,
   "id": "55e80c3c",
   "metadata": {},
   "outputs": [],
   "source": [
    "import os\n",
    "\n",
    "# Gets the user's home directory\n",
    "home_dir = os.path.expanduser(\"~\")\n",
    "\n",
    "# Constructs the path to the folder containing the different GPT descriptions for each model\n",
    "documents_folder = os.path.join(\"C:\\\\Users\\\\User\\\\OneDrive\\\\Desktop\\\\Documents\\\\Summer Internship\\\\BERT Score Files\\\\All GPT Prompt Responses\")\n",
    "\n",
    "# Constructs the full paths to the text files\n",
    "actual_path = os.path.join(documents_folder, \"All Actual Descriptions.txt\")\n",
    "translator_path = os.path.join(documents_folder, \"All JSON GPT Responses.txt\")\n",
    "\n",
    "# Opens and reads the files assigning them to an index in a string array separated by two newline characters\n",
    "def read_file_split_by_blank_lines(file_path):\n",
    "    with open(file_path) as f:\n",
    "        content = f.read()\n",
    "    entries = [entry.strip() for entry in content.split('\\n\\n') if entry.strip()]\n",
    "    return entries\n",
    "refs = read_file_split_by_blank_lines(actual_path)\n",
    "cands = read_file_split_by_blank_lines(translator_path)"
   ]
  },
  {
   "cell_type": "code",
   "execution_count": 6,
   "id": "fcde00a7",
   "metadata": {},
   "outputs": [
    {
     "name": "stdout",
     "output_type": "stream",
     "text": [
      "25\n",
      "25\n"
     ]
    }
   ],
   "source": [
    "print(len(refs))\n",
    "print(len(cands))"
   ]
  },
  {
   "cell_type": "code",
   "execution_count": 7,
   "id": "577784ef",
   "metadata": {},
   "outputs": [
    {
     "name": "stdout",
     "output_type": "stream",
     "text": [
      "calculating scores...\n",
      "computing bert embedding.\n"
     ]
    },
    {
     "data": {
      "application/vnd.jupyter.widget-view+json": {
       "model_id": "2fcc307eb1904a81812fc0dae0d4de8d",
       "version_major": 2,
       "version_minor": 0
      },
      "text/plain": [
       "  0%|          | 0/1 [00:00<?, ?it/s]"
      ]
     },
     "metadata": {},
     "output_type": "display_data"
    },
    {
     "name": "stdout",
     "output_type": "stream",
     "text": [
      "computing greedy matching.\n"
     ]
    },
    {
     "data": {
      "application/vnd.jupyter.widget-view+json": {
       "model_id": "6a48a13ae95e40fe960adee3af7be366",
       "version_major": 2,
       "version_minor": 0
      },
      "text/plain": [
       "  0%|          | 0/1 [00:00<?, ?it/s]"
      ]
     },
     "metadata": {},
     "output_type": "display_data"
    },
    {
     "name": "stdout",
     "output_type": "stream",
     "text": [
      "done in 71.29 seconds, 0.35 sentences/sec\n"
     ]
    }
   ],
   "source": [
    "P, R, F1 = score(cands, refs, lang='en', verbose=True)"
   ]
  },
  {
   "cell_type": "code",
   "execution_count": 8,
   "id": "7ee1a04f",
   "metadata": {},
   "outputs": [
    {
     "data": {
      "text/plain": [
       "tensor([0.9110, 0.8965, 0.9092, 0.9531, 0.9407, 0.9435, 0.9237, 0.9537, 0.8957,\n",
       "        0.9592, 0.9885, 0.8728, 0.9078, 0.9089, 0.9064, 0.9035, 0.9011, 0.9170,\n",
       "        0.9454, 0.9252, 0.8933, 0.8959, 0.8865, 0.8631, 0.8420])"
      ]
     },
     "execution_count": 8,
     "metadata": {},
     "output_type": "execute_result"
    }
   ],
   "source": [
    "F1\n",
    "#index 0 is the default GPT-4o score\n",
    "#index 1 is the fine-tuned GPT-4o score"
   ]
  },
  {
   "cell_type": "code",
   "execution_count": 9,
   "id": "d855eb01",
   "metadata": {},
   "outputs": [
    {
     "name": "stdout",
     "output_type": "stream",
     "text": [
      "The JSON GPT on average was: 91.37 % accurate to the correct description.\n"
     ]
    }
   ],
   "source": [
    "import torch\n",
    "print(f\"The JSON GPT on average was: {100 * torch.mean(F1):.2f} % accurate to the correct description.\")"
   ]
  },
  {
   "cell_type": "code",
   "execution_count": 10,
   "id": "44697fbf",
   "metadata": {},
   "outputs": [],
   "source": [
    "import matplotlib.pyplot as plt"
   ]
  },
  {
   "cell_type": "code",
   "execution_count": 11,
   "id": "5241f273",
   "metadata": {},
   "outputs": [
    {
     "data": {
      "image/png": "[encoded data removed]",
      "text/plain": [
       "<Figure size 640x480 with 1 Axes>"
      ]
     },
     "metadata": {},
     "output_type": "display_data"
    }
   ],
   "source": [
    "plt.hist(F1, bins=25)\n",
    "plt.xlabel(\"score\")\n",
    "plt.ylabel(\"counts\")\n",
    "plt.show()"
   ]
  },
  {
   "cell_type": "code",
   "execution_count": 12,
   "id": "600ff1c8",
   "metadata": {},
   "outputs": [],
   "source": [
    "P_scaled, R_scaled, F1_scaled = score(cands, refs, lang='en', rescale_with_baseline=True)"
   ]
  },
  {
   "cell_type": "code",
   "execution_count": 13,
   "id": "000615b1",
   "metadata": {},
   "outputs": [
    {
     "name": "stdout",
     "output_type": "stream",
     "text": [
      "tensor([0.4728, 0.3869, 0.4618, 0.7222, 0.6488, 0.6651, 0.5478, 0.7255, 0.3822,\n",
      "        0.7583, 0.9317, 0.2463, 0.4540, 0.4600, 0.4455, 0.4282, 0.4139, 0.5081,\n",
      "        0.6768, 0.5569, 0.3675, 0.3833, 0.3277, 0.1886, 0.0637])\n"
     ]
    },
    {
     "data": {
      "image/png": "[encoded data removed]",
      "text/plain": [
       "<Figure size 640x480 with 1 Axes>"
      ]
     },
     "metadata": {},
     "output_type": "display_data"
    }
   ],
   "source": [
    "print(F1_scaled)\n",
    "plt.hist(F1_scaled, bins=25)\n",
    "plt.xlabel(\"score\")\n",
    "plt.ylabel(\"counts\")\n",
    "plt.show()"
   ]
  },
  {
   "cell_type": "code",
   "execution_count": 14,
   "id": "005e9594",
   "metadata": {},
   "outputs": [],
   "source": [
    "from bert_score import BERTScorer"
   ]
  },
  {
   "cell_type": "code",
   "execution_count": 15,
   "id": "d75197fb",
   "metadata": {},
   "outputs": [],
   "source": [
    "scorer = BERTScorer(lang=\"en\", rescale_with_baseline=True)"
   ]
  },
  {
   "cell_type": "code",
   "execution_count": 16,
   "id": "5d64f4a3",
   "metadata": {},
   "outputs": [],
   "source": [
    "P, R, F1 = scorer.score(cands, refs)"
   ]
  },
  {
   "cell_type": "code",
   "execution_count": 17,
   "id": "55d2610b",
   "metadata": {},
   "outputs": [
    {
     "data": {
      "text/plain": [
       "tensor([0.4728, 0.3869, 0.4618, 0.7222, 0.6488, 0.6651, 0.5478, 0.7255, 0.3822,\n",
       "        0.7583, 0.9317, 0.2463, 0.4540, 0.4600, 0.4455, 0.4282, 0.4139, 0.5081,\n",
       "        0.6768, 0.5569, 0.3675, 0.3833, 0.3277, 0.1886, 0.0637])"
      ]
     },
     "execution_count": 17,
     "metadata": {},
     "output_type": "execute_result"
    }
   ],
   "source": [
    "F1"
   ]
  },
  {
   "cell_type": "code",
   "execution_count": null,
   "id": "6c8c8c1b",
   "metadata": {},
   "outputs": [],
   "source": []
  }
 ],
 "metadata": {
  "kernelspec": {
   "display_name": "Python 3 (ipykernel)",
   "language": "python",
   "name": "python3"
  },
  "language_info": {
   "codemirror_mode": {
    "name": "ipython",
    "version": 3
   },
   "file_extension": ".py",
   "mimetype": "text/x-python",
   "name": "python",
   "nbconvert_exporter": "python",
   "pygments_lexer": "ipython3",
   "version": "3.11.4"
  }
 },
 "nbformat": 4,
 "nbformat_minor": 5
}
