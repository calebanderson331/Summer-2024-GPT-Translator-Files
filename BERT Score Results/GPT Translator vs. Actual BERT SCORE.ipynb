{
 "cells": [
  {
   "cell_type": "code",
   "execution_count": 1,
   "id": "0fa052a1",
   "metadata": {},
   "outputs": [
    {
     "data": {
      "text/plain": [
       "'0.3.12'"
      ]
     },
     "execution_count": 1,
     "metadata": {},
     "output_type": "execute_result"
    }
   ],
   "source": [
    "import bert_score\n",
    "bert_score.__version__"
   ]
  },
  {
   "cell_type": "code",
   "execution_count": 2,
   "id": "e54e7c7c",
   "metadata": {},
   "outputs": [],
   "source": [
    "import logging\n",
    "import transformers\n",
    "transformers.tokenization_utils.logger.setLevel(logging.ERROR)\n",
    "transformers.configuration_utils.logger.setLevel(logging.ERROR)\n",
    "transformers.modeling_utils.logger.setLevel(logging.ERROR)"
   ]
  },
  {
   "cell_type": "code",
   "execution_count": 3,
   "id": "bd72270e",
   "metadata": {},
   "outputs": [],
   "source": [
    "%matplotlib inline\n",
    "import matplotlib.pyplot as plt\n",
    "from matplotlib import rcParams\n",
    "\n",
    "rcParams[\"xtick.major.size\"] = 0\n",
    "rcParams[\"xtick.minor.size\"] = 0\n",
    "rcParams[\"ytick.major.size\"] = 0\n",
    "rcParams[\"ytick.minor.size\"] = 0\n",
    "\n",
    "rcParams[\"axes.labelsize\"] = \"large\"\n",
    "rcParams[\"axes.axisbelow\"] = True\n",
    "rcParams[\"axes.grid\"] = True"
   ]
  },
  {
   "cell_type": "code",
   "execution_count": 4,
   "id": "7df2dbe6",
   "metadata": {},
   "outputs": [],
   "source": [
    "from bert_score import score"
   ]
  },
  {
   "cell_type": "code",
   "execution_count": 5,
   "id": "55e80c3c",
   "metadata": {},
   "outputs": [],
   "source": [
    "import os\n",
    "\n",
    "# Gets the user's home directory\n",
    "home_dir = os.path.expanduser(\"~\")\n",
    "\n",
    "# Constructs the path to the folder containing the different GPT descriptions for each model\n",
    "documents_folder = os.path.join(\"C:\\\\Users\\\\User\\\\OneDrive\\\\Desktop\\\\Documents\\\\Summer Internship\\\\BERT Score Files\\\\All GPT Prompt Responses\")\n",
    "\n",
    "# Construct the full paths to the text files\n",
    "actual_path = os.path.join(documents_folder, \"All Actual Descriptions.txt\")\n",
    "translator_path = os.path.join(documents_folder, \"All GPT Translator Responses.txt\")\n",
    "\n",
    "# Opens and reads the files assigning them to an index in a string array separated by two newline characters\n",
    "def read_file_split_by_blank_lines(file_path):\n",
    "    with open(file_path) as f:\n",
    "        content = f.read()\n",
    "    entries = [entry.strip() for entry in content.split('\\n\\n') if entry.strip()]\n",
    "    return entries\n",
    "refs = read_file_split_by_blank_lines(actual_path)\n",
    "cands = read_file_split_by_blank_lines(translator_path)\n"
   ]
  },
  {
   "cell_type": "code",
   "execution_count": 6,
   "id": "fcde00a7",
   "metadata": {},
   "outputs": [
    {
     "name": "stdout",
     "output_type": "stream",
     "text": [
      "25\n",
      "25\n"
     ]
    }
   ],
   "source": [
    "print(len(refs))\n",
    "print(len(cands))"
   ]
  },
  {
   "cell_type": "code",
   "execution_count": 7,
   "id": "577784ef",
   "metadata": {},
   "outputs": [
    {
     "name": "stdout",
     "output_type": "stream",
     "text": [
      "calculating scores...\n",
      "computing bert embedding.\n"
     ]
    },
    {
     "data": {
      "application/vnd.jupyter.widget-view+json": {
       "model_id": "ee730f1be0b241b88859c464ccd85035",
       "version_major": 2,
       "version_minor": 0
      },
      "text/plain": [
       "  0%|          | 0/1 [00:00<?, ?it/s]"
      ]
     },
     "metadata": {},
     "output_type": "display_data"
    },
    {
     "name": "stdout",
     "output_type": "stream",
     "text": [
      "computing greedy matching.\n"
     ]
    },
    {
     "data": {
      "application/vnd.jupyter.widget-view+json": {
       "model_id": "7d5c030dcad74b2d842e6dcd1673fd76",
       "version_major": 2,
       "version_minor": 0
      },
      "text/plain": [
       "  0%|          | 0/1 [00:00<?, ?it/s]"
      ]
     },
     "metadata": {},
     "output_type": "display_data"
    },
    {
     "name": "stdout",
     "output_type": "stream",
     "text": [
      "done in 67.60 seconds, 0.37 sentences/sec\n"
     ]
    }
   ],
   "source": [
    "P, R, F1 = score(cands, refs, lang='en', verbose=True)"
   ]
  },
  {
   "cell_type": "code",
   "execution_count": 8,
   "id": "7ee1a04f",
   "metadata": {},
   "outputs": [
    {
     "data": {
      "text/plain": [
       "tensor([0.9401, 0.9153, 0.9207, 0.8880, 0.9445, 0.9450, 0.9248, 0.9615, 0.8929,\n",
       "        0.9573, 0.8887, 0.8525, 0.8853, 0.8608, 0.8871, 0.8668, 0.8773, 0.8847,\n",
       "        0.8951, 0.8505, 0.8677, 0.9004, 0.8563, 0.8437, 0.8361])"
      ]
     },
     "execution_count": 8,
     "metadata": {},
     "output_type": "execute_result"
    }
   ],
   "source": [
    "F1\n",
    "#index 0 is the default GPT-4o score\n",
    "#index 1 is the fine-tuned GPT-4o score"
   ]
  },
  {
   "cell_type": "code",
   "execution_count": 9,
   "id": "d855eb01",
   "metadata": {},
   "outputs": [
    {
     "name": "stdout",
     "output_type": "stream",
     "text": [
      "The Translator GPT on average was: 89.37 % accurate to the correct description.\n"
     ]
    }
   ],
   "source": [
    "import torch\n",
    "print(f\"The Translator GPT on average was: {100 * torch.mean(F1):.2f} % accurate to the correct description.\")"
   ]
  },
  {
   "cell_type": "code",
   "execution_count": 10,
   "id": "44697fbf",
   "metadata": {},
   "outputs": [],
   "source": [
    "import matplotlib.pyplot as plt"
   ]
  },
  {
   "cell_type": "code",
   "execution_count": 11,
   "id": "5241f273",
   "metadata": {},
   "outputs": [
    {
     "data": {
      "image/png": "[encoded data removed]",
      "text/plain": [
       "<Figure size 640x480 with 1 Axes>"
      ]
     },
     "metadata": {},
     "output_type": "display_data"
    }
   ],
   "source": [
    "plt.hist(F1, bins=25)\n",
    "plt.xlabel(\"score\")\n",
    "plt.ylabel(\"counts\")\n",
    "plt.show()"
   ]
  },
  {
   "cell_type": "code",
   "execution_count": 12,
   "id": "600ff1c8",
   "metadata": {},
   "outputs": [],
   "source": [
    "P_scaled, R_scaled, F1_scaled = score(cands, refs, lang='en', rescale_with_baseline=True)"
   ]
  },
  {
   "cell_type": "code",
   "execution_count": 13,
   "id": "000615b1",
   "metadata": {},
   "outputs": [
    {
     "name": "stdout",
     "output_type": "stream",
     "text": [
      "tensor([0.6453, 0.4984, 0.5302, 0.3361, 0.6713, 0.6739, 0.5544, 0.7719, 0.3651,\n",
      "        0.7472, 0.3404, 0.1263, 0.3206, 0.1754, 0.3313, 0.2110, 0.2732, 0.3170,\n",
      "        0.3787, 0.1143, 0.2160, 0.4097, 0.1486, 0.0742, 0.0286])\n"
     ]
    },
    {
     "data": {
      "image/png": "[encoded data removed]",
      "text/plain": [
       "<Figure size 640x480 with 1 Axes>"
      ]
     },
     "metadata": {},
     "output_type": "display_data"
    }
   ],
   "source": [
    "print(F1_scaled)\n",
    "plt.hist(F1_scaled, bins=25)\n",
    "plt.xlabel(\"score\")\n",
    "plt.ylabel(\"counts\")\n",
    "plt.show()"
   ]
  },
  {
   "cell_type": "code",
   "execution_count": 14,
   "id": "005e9594",
   "metadata": {},
   "outputs": [],
   "source": [
    "from bert_score import BERTScorer"
   ]
  },
  {
   "cell_type": "code",
   "execution_count": 15,
   "id": "d75197fb",
   "metadata": {},
   "outputs": [],
   "source": [
    "scorer = BERTScorer(lang=\"en\", rescale_with_baseline=True)"
   ]
  },
  {
   "cell_type": "code",
   "execution_count": 16,
   "id": "5d64f4a3",
   "metadata": {},
   "outputs": [],
   "source": [
    "P, R, F1 = scorer.score(cands, refs)"
   ]
  },
  {
   "cell_type": "code",
   "execution_count": 17,
   "id": "55d2610b",
   "metadata": {},
   "outputs": [
    {
     "data": {
      "text/plain": [
       "tensor([0.6453, 0.4984, 0.5302, 0.3361, 0.6713, 0.6739, 0.5544, 0.7719, 0.3651,\n",
       "        0.7472, 0.3404, 0.1263, 0.3206, 0.1754, 0.3313, 0.2110, 0.2732, 0.3170,\n",
       "        0.3787, 0.1143, 0.2160, 0.4097, 0.1486, 0.0742, 0.0286])"
      ]
     },
     "execution_count": 17,
     "metadata": {},
     "output_type": "execute_result"
    }
   ],
   "source": [
    "F1"
   ]
  },
  {
   "cell_type": "code",
   "execution_count": null,
   "id": "6c8c8c1b",
   "metadata": {},
   "outputs": [],
   "source": []
  }
 ],
 "metadata": {
  "kernelspec": {
   "display_name": "Python 3 (ipykernel)",
   "language": "python",
   "name": "python3"
  },
  "language_info": {
   "codemirror_mode": {
    "name": "ipython",
    "version": 3
   },
   "file_extension": ".py",
   "mimetype": "text/x-python",
   "name": "python",
   "nbconvert_exporter": "python",
   "pygments_lexer": "ipython3",
   "version": "3.11.4"
  }
 },
 "nbformat": 4,
 "nbformat_minor": 5
}
